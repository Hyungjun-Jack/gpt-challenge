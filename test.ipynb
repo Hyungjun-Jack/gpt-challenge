{
 "cells": [
  {
   "cell_type": "code",
   "execution_count": 25,
   "metadata": {},
   "outputs": [],
   "source": [
    "from langchain_openai import ChatOpenAI\n",
    "from langchain.prompts.few_shot import FewShotChatMessagePromptTemplate\n",
    "from langchain.callbacks import StreamingStdOutCallbackHandler\n",
    "from langchain.prompts import ChatMessagePromptTemplate, ChatPromptTemplate"
   ]
  },
  {
   "cell_type": "code",
   "execution_count": 26,
   "metadata": {},
   "outputs": [],
   "source": [
    "chat = ChatOpenAI(\n",
    "    temperature=0.1,\n",
    "    streaming=True,\n",
    "    model=\"gpt-3.5-turbo\",\n",
    "    callbacks=[\n",
    "        StreamingStdOutCallbackHandler(),\n",
    "    ],\n",
    ")"
   ]
  },
  {
   "cell_type": "code",
   "execution_count": 31,
   "metadata": {},
   "outputs": [],
   "source": [
    "examples =[\n",
    "    {\n",
    "        \"movie\":\"그런 영화\",\n",
    "        \"answer\":\"\"\"\n",
    "        감독: 김감독,\n",
    "        주요 출연진: 김배우, 이조연, 남여우, 서주연,\n",
    "        예산 : 200억원,\n",
    "        흥행수익 : 20억원,\n",
    "        장르: 액션 어드벤처,\n",
    "        간략한 줄거리: 부조리한 사회 악에 맞서 싸우는 천재 해커들의 활약상을 다룬 액션 영화.\n",
    "        \"\"\"\n",
    "    },\n",
    "    {\n",
    "        \"movie\":\"퓨리오사 매드맥스 사가\",\n",
    "        \"answer\": \"\"\"\n",
    "        감독: 조지 밀러,\n",
    "        주요 출연진: 안야 테일러조이, 크리스 헴스워스,\n",
    "        예산 : 1000억원,\n",
    "        흥행수익 : 2000억원,\n",
    "        장르: 액션, 모험, 스릴러,\n",
    "        간략한 줄거리: 문명 붕괴 45년 후, \n",
    "황폐해진 세상 속 누구에게도 알려지지 않은 \n",
    "풍요가 가득한 ‘녹색의 땅’에서 자란 ‘퓨리오사’(안야 테일러-조이)는 바이커 군단의 폭군 ‘디멘투스’(크리스 헴스워스)의 손에 모든 것을 잃고 만다.\n",
    "\n",
    "가족도 행복도 모두 빼앗기고 세상에 홀로 내던져진 ‘퓨리오사’는\n",
    "반드시 고향으로 돌아가겠다는 어머니와의 약속을 지키기 위해\n",
    "인생 전부를 건 복수를 시작하는데...\"\"\"\n",
    "    }\n",
    "]"
   ]
  },
  {
   "cell_type": "code",
   "execution_count": 38,
   "metadata": {},
   "outputs": [],
   "source": [
    "example_prompt = ChatPromptTemplate.from_messages(\n",
    "    [\n",
    "        (\"human\", \"영화 {movie}에 대해서 알려줄래?\"),\n",
    "        (\"ai\", \"{answer}\"),\n",
    "    ]\n",
    ")\n",
    "\n",
    "fewshot_prompt = FewShotChatMessagePromptTemplate(\n",
    "    example_prompt=example_prompt,\n",
    "    examples=examples,\n",
    ")\n"
   ]
  },
  {
   "cell_type": "code",
   "execution_count": 39,
   "metadata": {},
   "outputs": [],
   "source": [
    "final_prompt = ChatPromptTemplate.from_messages(\n",
    "    [\n",
    "        (\"system\", \"당신은 영화에 대한 정보를 알려주는 전문가다.\"),\n",
    "        fewshot_prompt,\n",
    "        (\"human\", \"영화 {movie}에 대해서 알려줄래?\"),\n",
    "    ]\n",
    ")\n",
    "\n",
    "chain = final_prompt | chat"
   ]
  },
  {
   "cell_type": "code",
   "execution_count": 40,
   "metadata": {},
   "outputs": [
    {
     "name": "stdout",
     "output_type": "stream",
     "text": [
      "\n",
      "        감독: 마이클 베이,\n",
      "        주요 출연진: 윌 스미스, 마틴 로렌스,\n",
      "        예산 : 100억원,\n",
      "        흥행수익 : 500억원,\n",
      "        장르: 액션, 코미디,\n",
      "        간략한 줄거리: 뉴욕 경찰국의 엘리트 반부패 수사팀을 주인공으로 한 액션 코미디 영화. 두 명의 경찰이 범죄와 싸우는 동안 유머러스한 상황과 액션 신을 선보인다. 윌 스미스와 마틴 로렌스의 호흡이 돋보이는 작품으로, 시리즈로 이어지기도 했다."
     ]
    },
    {
     "data": {
      "text/plain": [
       "AIMessage(content='\\n        감독: 마이클 베이,\\n        주요 출연진: 윌 스미스, 마틴 로렌스,\\n        예산 : 100억원,\\n        흥행수익 : 500억원,\\n        장르: 액션, 코미디,\\n        간략한 줄거리: 뉴욕 경찰국의 엘리트 반부패 수사팀을 주인공으로 한 액션 코미디 영화. 두 명의 경찰이 범죄와 싸우는 동안 유머러스한 상황과 액션 신을 선보인다. 윌 스미스와 마틴 로렌스의 호흡이 돋보이는 작품으로, 시리즈로 이어지기도 했다.', additional_kwargs={}, response_metadata={'finish_reason': 'stop', 'model_name': 'gpt-3.5-turbo-0125'}, id='run-e957d79b-947f-4da7-b282-f53046b2a78d-0')"
      ]
     },
     "execution_count": 40,
     "metadata": {},
     "output_type": "execute_result"
    }
   ],
   "source": [
    "chain.invoke({\"movie\":\"배드 보이즈\"})"
   ]
  },
  {
   "cell_type": "code",
   "execution_count": null,
   "metadata": {},
   "outputs": [],
   "source": []
  }
 ],
 "metadata": {
  "kernelspec": {
   "display_name": "env",
   "language": "python",
   "name": "python3"
  },
  "language_info": {
   "codemirror_mode": {
    "name": "ipython",
    "version": 3
   },
   "file_extension": ".py",
   "mimetype": "text/x-python",
   "name": "python",
   "nbconvert_exporter": "python",
   "pygments_lexer": "ipython3",
   "version": "3.12.4"
  }
 },
 "nbformat": 4,
 "nbformat_minor": 2
}
