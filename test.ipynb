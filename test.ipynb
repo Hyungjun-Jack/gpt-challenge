{
 "cells": [
  {
   "cell_type": "code",
   "execution_count": 232,
   "metadata": {},
   "outputs": [],
   "source": [
    "from langchain_openai import ChatOpenAI\n",
    "from langchain.prompts.few_shot import FewShotChatMessagePromptTemplate\n",
    "from langchain.callbacks import StreamingStdOutCallbackHandler\n",
    "from langchain.prompts import (\n",
    "    ChatPromptTemplate,\n",
    "    MessagesPlaceholder,\n",
    ")\n",
    "from langchain.memory import ConversationBufferMemory\n",
    "from langchain.schema.runnable import RunnablePassthrough"
   ]
  },
  {
   "cell_type": "code",
   "execution_count": 234,
   "metadata": {},
   "outputs": [],
   "source": [
    "def load_memory(_):\n",
    "    return memory.load_memory_variables({})[\"history\"]\n",
    "\n",
    "\n",
    "llm = ChatOpenAI(\n",
    "    temperature=0.1,\n",
    "    streaming=True,\n",
    "    callbacks=[\n",
    "        StreamingStdOutCallbackHandler(),\n",
    "    ],\n",
    ")\n",
    "\n",
    "memory = ConversationBufferMemory(\n",
    "    llm=llm,\n",
    "    return_messages=True,\n",
    ")"
   ]
  },
  {
   "cell_type": "code",
   "execution_count": 235,
   "metadata": {},
   "outputs": [],
   "source": [
    "examples = [\n",
    "    {\n",
    "        \"movie\": \"Top Gun\",\n",
    "        \"answer\": \"🛩️👨‍✈️🔥\",\n",
    "    },\n",
    "    {\n",
    "        \"movie\": \"The Godfather\",\n",
    "        \"answer\": \"👨‍👨‍👦🔫🍝\",\n",
    "    },\n",
    "]"
   ]
  },
  {
   "cell_type": "code",
   "execution_count": 236,
   "metadata": {},
   "outputs": [],
   "source": [
    "example_prompt = ChatPromptTemplate.from_messages(\n",
    "    [\n",
    "        (\"human\", \"영화 {movie}와 잘 어울리는 이모티콘을 추천 해줄래?\"),\n",
    "        (\"ai\", \"{answer}\"),\n",
    "    ]\n",
    ")\n",
    "\n",
    "fewshot_prompt = FewShotChatMessagePromptTemplate(\n",
    "    example_prompt=example_prompt,\n",
    "    examples=examples,\n",
    ")"
   ]
  },
  {
   "cell_type": "code",
   "execution_count": 237,
   "metadata": {},
   "outputs": [],
   "source": [
    "memory_prompt = ChatPromptTemplate.from_messages(\n",
    "    [\n",
    "        (\n",
    "            \"system\",\n",
    "            \"당신은 영화 내용과 잘 어울리는 이모티콘을 추천해 주는 챗봇이다. 질문으로 받은 영화에 어울리는 이모티몬을 제공하세요. 답변할 때 샘플로 제공한 영화는 제외하세요.\",\n",
    "        ),\n",
    "        fewshot_prompt,\n",
    "        MessagesPlaceholder(\n",
    "            variable_name=\"history\",\n",
    "        ),\n",
    "        (\"human\", \"{movie}\"),\n",
    "    ]\n",
    ")"
   ]
  },
  {
   "cell_type": "code",
   "execution_count": 238,
   "metadata": {},
   "outputs": [],
   "source": [
    "memory_chain = RunnablePassthrough.assign(history=load_memory) | memory_prompt | llm"
   ]
  },
  {
   "cell_type": "code",
   "execution_count": 239,
   "metadata": {},
   "outputs": [],
   "source": [
    "def invoke_chain(movie):\n",
    "    result = memory_chain.invoke({\"movie\": movie})\n",
    "    memory.save_context(\n",
    "        {\"input\": movie},\n",
    "        {\"output\": result.content},\n",
    "    )\n",
    "    # print(result)"
   ]
  },
  {
   "cell_type": "code",
   "execution_count": 241,
   "metadata": {},
   "outputs": [
    {
     "name": "stdout",
     "output_type": "stream",
     "text": [
      "👨‍🚒🔥🚒"
     ]
    }
   ],
   "source": [
    "invoke_chain(\"소방관\")"
   ]
  },
  {
   "cell_type": "code",
   "execution_count": 242,
   "metadata": {},
   "outputs": [
    {
     "name": "stdout",
     "output_type": "stream",
     "text": [
      "🎬🚗💥"
     ]
    }
   ],
   "source": [
    "invoke_chain(\"스턴트맨\")"
   ]
  },
  {
   "cell_type": "code",
   "execution_count": 248,
   "metadata": {},
   "outputs": [
    {
     "data": {
      "text/plain": [
       "[HumanMessage(content='소방관', additional_kwargs={}, response_metadata={}),\n",
       " AIMessage(content='👨\\u200d🚒🔥🚒', additional_kwargs={}, response_metadata={}),\n",
       " HumanMessage(content='스턴트맨', additional_kwargs={}, response_metadata={}),\n",
       " AIMessage(content='🎬🚗💥', additional_kwargs={}, response_metadata={}),\n",
       " HumanMessage(content='what wat the movie name i asked you first?', additional_kwargs={}, response_metadata={}),\n",
       " AIMessage(content=\"I'm sorry, I cannot provide the movie name you asked for first. How can I assist you further?\", additional_kwargs={}, response_metadata={}),\n",
       " HumanMessage(content='소방관을 물어본적있어?', additional_kwargs={}, response_metadata={}),\n",
       " AIMessage(content='네, 소방관에 대한 이모티콘을 이미 제공했습니다. 다른 질문이 있으시면 도와드리겠습니다.', additional_kwargs={}, response_metadata={}),\n",
       " HumanMessage(content='내가 맨 처음 질문한 영화 제목은?', additional_kwargs={}, response_metadata={}),\n",
       " AIMessage(content='죄송합니다. 제가 사용한 샘플 영화는 \"Top Gun\"이었습니다. 다른 질문이 있으시면 도와드리겠습니다.', additional_kwargs={}, response_metadata={}),\n",
       " HumanMessage(content='내가 이전에 질문한 영화 제목은?', additional_kwargs={}, response_metadata={}),\n",
       " AIMessage(content='죄송합니다. 이전에 질문하신 영화 제목은 \"The Godfather\"였습니다. 다른 질문이 있으시면 도와드리겠습니다.', additional_kwargs={}, response_metadata={})]"
      ]
     },
     "execution_count": 248,
     "metadata": {},
     "output_type": "execute_result"
    }
   ],
   "source": [
    "load_memory({})"
   ]
  },
  {
   "cell_type": "code",
   "execution_count": 247,
   "metadata": {},
   "outputs": [
    {
     "name": "stdout",
     "output_type": "stream",
     "text": [
      "죄송합니다. 이전에 질문하신 영화 제목은 \"The Godfather\"였습니다. 다른 질문이 있으시면 도와드리겠습니다."
     ]
    }
   ],
   "source": [
    "invoke_chain(\"내가 이전에 질문한 영화 제목은?\")"
   ]
  },
  {
   "cell_type": "code",
   "execution_count": 246,
   "metadata": {},
   "outputs": [
    {
     "name": "stdout",
     "output_type": "stream",
     "text": [
      "죄송합니다. 제가 사용한 샘플 영화는 \"Top Gun\"이었습니다. 다른 질문이 있으시면 도와드리겠습니다."
     ]
    }
   ],
   "source": [
    "invoke_chain(\"내가 맨 처음 질문한 영화 제목은?\")"
   ]
  },
  {
   "cell_type": "code",
   "execution_count": 245,
   "metadata": {},
   "outputs": [
    {
     "name": "stdout",
     "output_type": "stream",
     "text": [
      "네, 소방관에 대한 이모티콘을 이미 제공했습니다. 다른 질문이 있으시면 도와드리겠습니다."
     ]
    }
   ],
   "source": [
    "invoke_chain(\"소방관을 물어본적있어?\")"
   ]
  },
  {
   "cell_type": "code",
   "execution_count": 244,
   "metadata": {},
   "outputs": [
    {
     "name": "stdout",
     "output_type": "stream",
     "text": [
      "I'm sorry, I cannot provide the movie name you asked for first. How can I assist you further?"
     ]
    }
   ],
   "source": [
    "invoke_chain(\"what wat the movie name i asked you first?\")"
   ]
  },
  {
   "cell_type": "code",
   "execution_count": null,
   "metadata": {},
   "outputs": [],
   "source": []
  }
 ],
 "metadata": {
  "kernelspec": {
   "display_name": "env",
   "language": "python",
   "name": "python3"
  },
  "language_info": {
   "codemirror_mode": {
    "name": "ipython",
    "version": 3
   },
   "file_extension": ".py",
   "mimetype": "text/x-python",
   "name": "python",
   "nbconvert_exporter": "python",
   "pygments_lexer": "ipython3",
   "version": "3.12.5"
  }
 },
 "nbformat": 4,
 "nbformat_minor": 2
}
