{
 "cells": [
  {
   "cell_type": "code",
   "execution_count": 5,
   "metadata": {},
   "outputs": [],
   "source": [
    "from langchain_openai import ChatOpenAI\n",
    "from langchain.prompts import ChatPromptTemplate\n",
    "from langchain.callbacks import StreamingStdOutCallbackHandler"
   ]
  },
  {
   "cell_type": "code",
   "execution_count": 11,
   "metadata": {},
   "outputs": [],
   "source": [
    "chat = ChatOpenAI(\n",
    "    temperature=0.1,\n",
    "    streaming=True,\n",
    "    model=\"gpt-3.5-turbo\",\n",
    "    callbacks=[\n",
    "        StreamingStdOutCallbackHandler(),\n",
    "    ],\n",
    ")"
   ]
  },
  {
   "cell_type": "code",
   "execution_count": 21,
   "metadata": {},
   "outputs": [],
   "source": [
    "poet_prompt = ChatPromptTemplate.from_messages(\n",
    "    [\n",
    "        (\n",
    "            \"system\",\n",
    "            \"\",\n",
    "        ),\n",
    "        (\"human\", \"나는 프로그래밍 언어 중 하나인 {language}에 대한 시를 쓰고 싶습니다.\"),\n",
    "    ]\n",
    ")\n",
    "\n",
    "poet_chain = poet_prompt | chat"
   ]
  },
  {
   "cell_type": "code",
   "execution_count": 22,
   "metadata": {},
   "outputs": [],
   "source": [
    "explain_prompt = ChatPromptTemplate.from_messages(\n",
    "    [\n",
    "        (\n",
    "            \"system\",\n",
    "            \"당신은 시인이 작성한 시를 대중에게 알기쉽게 설명해 주는 해설가입니다. \",\n",
    "        ),\n",
    "        (\n",
    "            \"human\", \"{poet}\"\n",
    "        )\n",
    "    ]\n",
    ")"
   ]
  },
  {
   "cell_type": "code",
   "execution_count": 23,
   "metadata": {},
   "outputs": [],
   "source": [
    "explain_chain = explain_prompt | chat"
   ]
  },
  {
   "cell_type": "code",
   "execution_count": 24,
   "metadata": {},
   "outputs": [
    {
     "name": "stdout",
     "output_type": "stream",
     "text": [
      "확실한 것은 파이썬,\n",
      "가독성 좋고 간결한,\n",
      "코드를 작성하면,\n",
      "문제 해결이 즐거워져요.\n",
      "\n",
      "인터프리터 언어,\n",
      "실행이 빠르고 편리해,\n",
      "라이브러리 다양해,\n",
      "파이썬은 최고야.\n",
      "\n",
      "문법도 쉽고,\n",
      "배우기 쉬운데,\n",
      "머신러닝, 데이터 분석,\n",
      "다양한 분야에서 빛나는 별.\n",
      "\n",
      "파이썬이여, 너는 아름다워,\n",
      "코딩을 즐겁게 만들어주는,\n",
      "우리의 친구 파이썬,\n",
      "영원히 사랑받을 것이다.이 시는 파이썬 프로그래밍 언어에 대한 사랑을 표현한 것입니다. 시인은 파이썬의 간결하고 가독성 좋은 코드 작성을 강조하며, 파이썬이 제공하는 다양한 라이브러리와 빠른 실행 속도를 칭찬합니다. 또한 파이썬의 쉬운 문법과 학습 곡선을 강조하면서, 머신러닝, 데이터 분석 등 다양한 분야에서 빛을 발하는 파이썬을 아름다운 별로 비유하고 있습니다. 마지막으로 시인은 파이썬을 즐겁게 만들어주는 친구로서 영원히 사랑받을 것이라고 예언하고 있습니다. 이 시는 파이썬을 사랑하는 사람들에게는 공감을 주며, 파이썬의 매력을 훌륭하게 전달하고 있습니다."
     ]
    },
    {
     "data": {
      "text/plain": [
       "AIMessage(content='이 시는 파이썬 프로그래밍 언어에 대한 사랑을 표현한 것입니다. 시인은 파이썬의 간결하고 가독성 좋은 코드 작성을 강조하며, 파이썬이 제공하는 다양한 라이브러리와 빠른 실행 속도를 칭찬합니다. 또한 파이썬의 쉬운 문법과 학습 곡선을 강조하면서, 머신러닝, 데이터 분석 등 다양한 분야에서 빛을 발하는 파이썬을 아름다운 별로 비유하고 있습니다. 마지막으로 시인은 파이썬을 즐겁게 만들어주는 친구로서 영원히 사랑받을 것이라고 예언하고 있습니다. 이 시는 파이썬을 사랑하는 사람들에게는 공감을 주며, 파이썬의 매력을 훌륭하게 전달하고 있습니다.', additional_kwargs={}, response_metadata={'finish_reason': 'stop', 'model_name': 'gpt-3.5-turbo-0125'}, id='run-f57fdae6-0f22-47b2-9439-65270ae18be7-0')"
      ]
     },
     "execution_count": 24,
     "metadata": {},
     "output_type": "execute_result"
    }
   ],
   "source": [
    "final_chain = {\"poet\": poet_chain} | explain_chain\n",
    "\n",
    "final_chain.invoke({\"language\": \"python\"})"
   ]
  },
  {
   "cell_type": "code",
   "execution_count": null,
   "metadata": {},
   "outputs": [],
   "source": []
  }
 ],
 "metadata": {
  "kernelspec": {
   "display_name": "env",
   "language": "python",
   "name": "python3"
  },
  "language_info": {
   "codemirror_mode": {
    "name": "ipython",
    "version": 3
   },
   "file_extension": ".py",
   "mimetype": "text/x-python",
   "name": "python",
   "nbconvert_exporter": "python",
   "pygments_lexer": "ipython3",
   "version": "3.12.4"
  }
 },
 "nbformat": 4,
 "nbformat_minor": 2
}
