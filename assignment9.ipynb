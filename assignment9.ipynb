{
 "cells": [
  {
   "cell_type": "code",
   "execution_count": 1,
   "metadata": {},
   "outputs": [],
   "source": [
    "from langchain_openai import ChatOpenAI\n",
    "from langchain.tools import BaseTool\n",
    "from langchain.agents import initialize_agent, AgentType\n",
    "from pydantic import BaseModel, Field\n",
    "from typing import Any, Type\n",
    "from langchain_community.tools import WikipediaQueryRun, GoogleSearchRun\n",
    "from langchain_community.utilities import WikipediaAPIWrapper, GoogleSearchAPIWrapper"
   ]
  },
  {
   "cell_type": "code",
   "execution_count": 2,
   "metadata": {},
   "outputs": [],
   "source": [
    "llm = ChatOpenAI(\n",
    "    temperature=0.1,\n",
    "    model_name=\"gpt-4o-mini\",\n",
    ")"
   ]
  },
  {
   "cell_type": "code",
   "execution_count": 3,
   "metadata": {},
   "outputs": [],
   "source": [
    "class WikipediaSearchToolArgsSchema(BaseModel):\n",
    "    query: str = Field(\n",
    "        description=\"The query you will search for Example query: Search for Apple Company.\"\n",
    "    )\n",
    "\n",
    "\n",
    "class WikipediaSearchTool(BaseTool):\n",
    "    name: str = \"WikipediaSearchTool\"\n",
    "    description: str = (\n",
    "        \"Use this tool to find any information for the query. It takes a query as an argument. And save the results in file.\"\n",
    "    )\n",
    "    args_schema: Type[WikipediaSearchToolArgsSchema] = WikipediaSearchToolArgsSchema\n",
    "\n",
    "    def _run(self, query):\n",
    "        wikipedia = WikipediaQueryRun(api_wrapper=WikipediaAPIWrapper())\n",
    "        return wikipedia.run(query)"
   ]
  },
  {
   "cell_type": "code",
   "execution_count": 4,
   "metadata": {},
   "outputs": [],
   "source": [
    "class SearchToolArgsSchema(BaseModel):\n",
    "    query: str = Field(\n",
    "        description=\"The query you will search websites about Example query: Search websites about Apple Company.\"\n",
    "    )\n",
    "\n",
    "\n",
    "class SearchTool(BaseTool):\n",
    "    name: str = \"SearchTool\"\n",
    "    description: str = (\n",
    "        \"Use this tool to find websites relate about the query. It takes a query as an argument. And save the results in file.\"\n",
    "    )\n",
    "    args_schema: Type[SearchToolArgsSchema] = SearchToolArgsSchema\n",
    "\n",
    "    def _run(self, query):\n",
    "        google = GoogleSearchAPIWrapper()\n",
    "        return google.run(query)"
   ]
  },
  {
   "cell_type": "code",
   "execution_count": 5,
   "metadata": {},
   "outputs": [],
   "source": [
    "class SaveToolArgsSchema(BaseModel):\n",
    "    filename: str = Field(description=\"Filename to save the search results.\")\n",
    "    contents: str = Field(description=\"the search results.\")\n",
    "\n",
    "\n",
    "class SaveTool(BaseTool):\n",
    "    name: str = \"SaveTool\"\n",
    "    description: str = \"Use this tool to save search results in text file.\"\n",
    "    args_schema: Type[SaveToolArgsSchema] = SaveToolArgsSchema\n",
    "\n",
    "    def _run(self, filename, contents):\n",
    "        # print(filename, contents)\n",
    "        f = open(filename, \"w\", encoding=\"utf-8\")\n",
    "        f.write(contents)\n",
    "        f.close()"
   ]
  },
  {
   "cell_type": "code",
   "execution_count": null,
   "metadata": {},
   "outputs": [],
   "source": [
    "agent = initialize_agent(\n",
    "    llm=llm,\n",
    "    verbose=True,\n",
    "    agent=AgentType.OPENAI_FUNCTIONS,\n",
    "    handle_parsing_errors=True,\n",
    "    tools=[\n",
    "        WikipediaSearchTool(),\n",
    "        SearchTool(),\n",
    "        SaveTool(),\n",
    "    ],\n",
    ")\n",
    "\n",
    "prompt = \"Research about the XZ backdoor\"\n",
    "\n",
    "agent.invoke(prompt)"
   ]
  },
  {
   "cell_type": "code",
   "execution_count": null,
   "metadata": {},
   "outputs": [],
   "source": []
  }
 ],
 "metadata": {
  "kernelspec": {
   "display_name": "env",
   "language": "python",
   "name": "python3"
  },
  "language_info": {
   "codemirror_mode": {
    "name": "ipython",
    "version": 3
   },
   "file_extension": ".py",
   "mimetype": "text/x-python",
   "name": "python",
   "nbconvert_exporter": "python",
   "pygments_lexer": "ipython3",
   "version": "3.12.5"
  }
 },
 "nbformat": 4,
 "nbformat_minor": 2
}
