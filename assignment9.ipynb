{
 "cells": [
  {
   "cell_type": "code",
   "execution_count": 1,
   "metadata": {},
   "outputs": [],
   "source": [
    "from langchain_openai import ChatOpenAI\n",
    "from langchain.tools import BaseTool\n",
    "from langchain.agents import initialize_agent, AgentType\n",
    "from pydantic import BaseModel, Field\n",
    "from typing import Any, Type\n",
    "from langchain_community.tools import WikipediaQueryRun, GoogleSearchRun\n",
    "from langchain_community.utilities import WikipediaAPIWrapper, GoogleSearchAPIWrapper"
   ]
  },
  {
   "cell_type": "markdown",
   "metadata": {},
   "source": [
    "TA's 힌트\n",
    "다양한 커스텀 도구를 만들고 이 도구들을 에이전트에게 전달하여 리서치 AI 에이전트를 구현해야 하는 챌린지입니다.\n",
    "\n",
    "먼저, 위키피디아에서 검색을 수행하는 도구를 만들어야 합니다. 랭체인에서 제공하는 WikipediaQueryRun를 사용하면 간단하게 구현할 수 있습니다. (LangChain - Wikipedia 를 참고하세요.)\n",
    "\n",
    "다음은 DuckDuckGo에서 검색을 수행하는 도구를 만들어야 합니다. 이 또한 랭체인에서 제공하는 DuckDuckGoSearchRun를 사용하면 덕덕고의 검색 결과를 얻을 수 있습니다. (LangChain - DuckDuckGo Search 를 참고하세요.)\n",
    "\n",
    "DuckDuckGo를 통해 얻은 검색 결과에서 웹사이트들의 콘텐츠를 추출하는 도구가 필요합니다. 다양한 방법이 있지만, 그중에서도 랭체인이 제공하는 WebBaseLoader를 이용하면 웹사이트의 콘텐츠를 쉽게 스크랩할 수 있습니다. (LangChain - WebBaseLoader 를 참고하세요.)\n",
    "\n",
    "마지막으로, 리서치 결과를 txt 파일에 저장하는 도구가 필요합니다. 파이썬에서 기본으로 제공하는 파일 쓰기 기능을 이용하여 구현하세요. (python - reading-and-writing-files)"
   ]
  },
  {
   "cell_type": "code",
   "execution_count": 2,
   "metadata": {},
   "outputs": [],
   "source": [
    "llm = ChatOpenAI(\n",
    "    temperature=0.1,\n",
    "    model_name=\"gpt-4o-mini\",\n",
    ")"
   ]
  },
  {
   "cell_type": "code",
   "execution_count": 3,
   "metadata": {},
   "outputs": [],
   "source": [
    "class WikipediaSearchToolArgsSchema(BaseModel):\n",
    "    query: str = Field(\n",
    "        description=\"The query you will search for Example query: Search for Apple Company.\"\n",
    "    )\n",
    "\n",
    "\n",
    "class WikipediaSearchTool(BaseTool):\n",
    "    name: str = \"WikipediaSearchTool\"\n",
    "    description: str = (\n",
    "        \"Use this tool to find any information for the query. It takes a query as an argument. And save the results in file.\"\n",
    "    )\n",
    "    args_schema: Type[WikipediaSearchToolArgsSchema] = WikipediaSearchToolArgsSchema\n",
    "\n",
    "    def _run(self, query):\n",
    "        wikipedia = WikipediaQueryRun(api_wrapper=WikipediaAPIWrapper())\n",
    "        return wikipedia.run(query)"
   ]
  },
  {
   "cell_type": "code",
   "execution_count": 4,
   "metadata": {},
   "outputs": [],
   "source": [
    "class SearchToolArgsSchema(BaseModel):\n",
    "    query: str = Field(\n",
    "        description=\"The query you will search websites about Example query: Search websites about Apple Company.\"\n",
    "    )\n",
    "\n",
    "\n",
    "class SearchTool(BaseTool):\n",
    "    name: str = \"SearchTool\"\n",
    "    description: str = (\n",
    "        \"Use this tool to find websites relate about the query. It takes a query as an argument. And save the results in file.\"\n",
    "    )\n",
    "    args_schema: Type[SearchToolArgsSchema] = SearchToolArgsSchema\n",
    "\n",
    "    def _run(self, query):\n",
    "        google = GoogleSearchAPIWrapper()\n",
    "        return google.run(query)"
   ]
  },
  {
   "cell_type": "code",
   "execution_count": 5,
   "metadata": {},
   "outputs": [],
   "source": [
    "class SaveToolArgsSchema(BaseModel):\n",
    "    filename: str = Field(description=\"Filename to save the search results.\")\n",
    "    contents: str = Field(description=\"the search results.\")\n",
    "\n",
    "\n",
    "class SaveTool(BaseTool):\n",
    "    name: str = \"SaveTool\"\n",
    "    description: str = \"Use this tool to save search results in text file.\"\n",
    "    args_schema: Type[SaveToolArgsSchema] = SaveToolArgsSchema\n",
    "\n",
    "    def _run(self, filename, contents):\n",
    "        # print(filename, contents)\n",
    "        f = open(filename, \"w\", encoding=\"utf-8\")\n",
    "        f.write(contents)\n",
    "        f.close()"
   ]
  },
  {
   "cell_type": "code",
   "execution_count": null,
   "metadata": {},
   "outputs": [],
   "source": [
    "agent = initialize_agent(\n",
    "    llm=llm,\n",
    "    verbose=True,\n",
    "    agent=AgentType.OPENAI_FUNCTIONS,\n",
    "    handle_parsing_errors=True,\n",
    "    tools=[\n",
    "        WikipediaSearchTool(),\n",
    "        SearchTool(),\n",
    "        SaveTool(),\n",
    "    ],\n",
    ")\n",
    "\n",
    "prompt = \"Research about the XZ backdoor\"\n",
    "\n",
    "agent.invoke(prompt)"
   ]
  },
  {
   "cell_type": "code",
   "execution_count": null,
   "metadata": {},
   "outputs": [],
   "source": []
  }
 ],
 "metadata": {
  "kernelspec": {
   "display_name": "env",
   "language": "python",
   "name": "python3"
  },
  "language_info": {
   "codemirror_mode": {
    "name": "ipython",
    "version": 3
   },
   "file_extension": ".py",
   "mimetype": "text/x-python",
   "name": "python",
   "nbconvert_exporter": "python",
   "pygments_lexer": "ipython3",
   "version": "3.12.5"
  }
 },
 "nbformat": 4,
 "nbformat_minor": 2
}
